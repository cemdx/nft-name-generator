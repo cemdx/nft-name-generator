{
 "cells": [
  {
   "cell_type": "code",
   "execution_count": 1,
   "id": "cde34ac9",
   "metadata": {},
   "outputs": [],
   "source": [
    "from IPython.display import display, Markdown, clear_output\n",
    "import ipywidgets as widgets\n",
    "import random"
   ]
  },
  {
   "cell_type": "code",
   "execution_count": 2,
   "id": "f5ef3939",
   "metadata": {},
   "outputs": [],
   "source": [
    "wordlist = [\"Human One\", \"Merge\", \"Crypto Punk\", \"Ocean Front\", \"Crossroad\", \"Ringers\", \"Opening Night\", \"Genesis\", \"Gale Crater\", \"Santa Claws\", \"Pawfect Mystery Box\", \"Valles Marineris\", \"Moon Boi\", \"Snoop Dogge Coins\", \"Party God\", \"Elf\", \"Diamong Joint\", \"Daredevil Doge\", \"Planet Ada\", \"Expert\", \"Space Scout\", \"Gold Rush Gary\", \"Supersonic\", \"Arturo Ripple\", \"Rapid Mole\", \"Pablo Etherbar\", \"Hipster Shib\", \"Scary Shib\", \"Loaded Lion\", \"Swanky Stripes\", \"Azuki\", \"Clone X\", \"Bored Ape\", \"Doodles\", \"FishyFam\", \"World of Women\", \"Crypto Morries\", \"Prime Ape Planet\", \"Ape Kids Club\", \"Jungle Freaks\", \"Invisible Friends\", \"Mfers\", \"Cyber Kongz\", \"Dead Fellaz\", \"Vee Friends\", \"Fluf World\", \"Cool Cats NFT\", \"Hash Masks\", \"Pudgy Penguins\", \"Desperate ApeWives\", \"Adam Bomb\", \"Alien Frens\", \"Heart Project\", \"Crypto Skulls\", \"Swamp Verse\", \"Force\", \"Robotos\", \"Lazy Lions\", \"Psychedelics Anonymous\", \"My Pet Hooligan\", \"Boss Beauties\", \"Crypto Chicks\", \"Cryptoon Goonz\", \"Women and Weapons\", \"Crypto Toadz\", \"Kaiju Kingz\", \"Heroes\", \"Fishy Fam\", \"Doge Pound\", \"Sneaky Vampire Syndicate\", \"Fancy Bears Metaverse\", \"Galaktic Gang\", \"Dysto Apez Official\", \"Degen Toonz\", \"Bored Ape Yacht Club\", \"Meebits\", \"Loot\", \"MekaVerse\", \"Azuki\", \"Doodles\", \"Hape\", \"NFT Worlds\", \"Karafuru\", \"Creature World\", \"Phanta Bear\", \"Landers\", \"Elon\", \"unarmed four\", \"rabid future\", \"hideous handsomely\", \"maniacal cold\", \"sharp frightened\", \"complex sturdy\", \"complete warm\", \"harsh zany\", \"panicky elfin\", \"addicted miniature\", \"tightfisted shallow\", \"alleged bawdy\", \"hard spotted\", \"teeny-tiny highfalutin\", \"spotted keen\", \"blue-eyed trite\", \"agonizing troubled\", \"adorable rambunctious\", \"brash hospitable\", \"intelligent jealous\", \"violet selfish\", \"zealous halting\", \"rich immediate\", \"flowery angry\", \"internal fortunate\", \"guiltless stingy\", \"imperfect strange\", \"wide-eyed grouchy\", \"careless wanting\", \"mad straight\", \"good ordinary\", \"ten open\", \"repulsive zesty\", \"redundant tiresome\", \"broad frantic\", \"anxious slim\", \"informal picayune\", \"spotless jagged\", \"scintillating foreign\", \"unadvised present\", \"wistful curly\", \"lucky terrific\", \"gigantic crazy\", \"numerous shut\", \"frail earsplitting\", \"heavy quarrelsome\", \"overrated lame\", \"fretful moldy\", \"scary husky\", \"stormy necessary\", \"real chubby\", \"statuesque learned\", \"volatile foregoing\", \"dreary grubby\", \"undesirable abounding\", \"zesty demonic\", \"cooperative messy\", \"hysterical makeshift\", \"vivacious second-hand\", \"rightful fortunate\", \"tough whimsical\", \"sloppy nonchalant\", \"brave acceptable\", \"shaggy amazing\", \"better tidy\", \"heavy sable\", \"wary kind\", \"illustrious pathetic\", \"hulking macho\", \"married knowing\", \"previous rapid\", \"instinctive overrated\", \"clean amuck\", \"feeble psychological\", \"unequaled ruthless\", \"hilarious incredible\", \"versed tasty\", \"oval synonymous\", \"bumpy lucky\", \"murky woozy\", \"materialistic jittery\", \"cruel sedate\", \"breezy expensive\", \"stale stupendous\", \"jealous paltry\", \"pointless inexpensive\", \"painstaking courageous\", \"neat long\", \"sleepy ablaze\", \"shaky severe\", \"oafish addicted\", \"disastrous pure\", \"nice straight\", \"amusing unkempt\", \"sophisticated minor\", \"unsuitable gruesome\", \"magenta panicky\", \"solid defeated\", \"fancy dead\", \"lazy uneven\", \"mammoth black\", \"dull sad\", \"bloody loutish\", \"acrid threatening\", \"suspicious furry\", \"strong environmental\", \"spiky learned\", \"military slippery\", \"determined silky\", \"remarkable inconclusive\", \"every full\", \"discreet vulgar\", \"confident civil\", \"repulsive wandering\", \"selfish jolly\", \"standing glorious\", \"impolite womanly\", \"brainy loose\", \"bumpy obtainable\", \"relevant efficacious\", \"yellow homeless\", \"brief terrific\", \"real hideous\", \"truculent hungry\", \"ugly disillusioned\", \"condemned recent\", \"freezing hot\", \"fragile skinny\", \"precious assorted\", \"ludicrous important\", \"shrill bumpy\", \"ambitious hissing\", \"entertaining laughable\", \"wrathful halting\", \"full scintillating\", \"psychotic neighborly\", \"apathetic dangerous\", \"workable impressive\", \"abundant aspiring\", \"threatening delirious\", \"descriptive overjoyed\", \"far used\", \"bustling craven\", \"noisy kaput\", \"necessary hard\", \"young bored\", \"windy painstaking\", \"alcoholic traditional\", \"plant weak\", \"tasty grotesque\", \"marked rotten\", \"adjoining plastic\", \"smooth scared\", \"hospitable bewildered\", \"spectacular womanly\", \"addicted serious\", \"ill shy\", \"unsightly nebulous\", \"harsh spurious\", \"hanging acid\", \"groovy green\", \"solid measly\", \"robust decisive\", \"creepy auspicious\", \"loving succinct\", \"thankful several\", \"defective fierce\", \"jolly next\", \"true breezy\", \"gabby learned\", \"deep strong\", \"overrated pushy\", \"real frantic\", \"supreme mixed\", \"loose high\", \"selfish warm\", \"scattered handsome\", \"civil distinct\", \"needy global\", \"consistent warlike\", \"purring painful\", \"stupendous didactic\", \"fresh grandiose\", \"brawny imported\", \"faint waggish\", \"cultured profuse\", \"versed fancy\", \"obsolete glamorous\", \"maddening smart\", \"mellow brash\", \"tranquil physical\", \"sturdy black\", \"entertaining high-pitched\", \"alert marvelous\", \"hateful panicky\", \"workable nice\", \"wanting unsuitable\", \"sick icy\", \"fumbling sable\", \"automatic moaning\", \"old-fashioned delightful\", \"soggy lethal\", \"enchanting ordinary\", \"unnatural excellent\", \"fresh southern\", \"aberrant roasted\", \"better two\", \"secret interesting\", \"stingy unsuitable\", \"real rebel\", \"five jazzy\", \"functional drunk\", \"bite-sized administrative\", \"asleep fair\", \"abnormal recondite\", \"calm staking\", \"deranged cold\", \"tangy tight\", \"kindhearted half\", \"lazy terrible\", \"jobless awesome\", \"puny upset\", \"confused successfully\", \"burly crooked\", \"ruthless jagged\", \"freezing comprehensive\", \"complex silly\", \"practical well-off\", \"didactic knowledgeable\", \"woozy acidic\", \"big tenuous\", \"possible courageous\", \"glib various\", \"useful skinny\", \"dysfunctional spooky\", \"whole heavy\", \"sudden red\", \"noxious better\", \"abounding necessary\", \"damp jealous\", \"wrathful impressive\", \"late didactic\", \"descriptive material\", \"successfully futuristic\", \"lacking scintillating\", \"maddening thin\", \"tawdry alive\", \"yummy dark\", \"well-made dynamic\", \"ugly disturbed\"]"
   ]
  },
  {
   "cell_type": "code",
   "execution_count": 3,
   "id": "6d04ab7c",
   "metadata": {},
   "outputs": [],
   "source": [
    "first_words = [x.split()[0].title() for x in wordlist]\n",
    "second_words = [x.split()[1].title() for x in wordlist if len(x.split())>1]\n",
    "third_words = [x.split()[2].title() for x in wordlist if len(x.split())>2]\n",
    "fourth_words = [x.split()[3].title() for x in wordlist if len(x.split())>3]\n",
    "dict_list = [first_words, second_words, third_words, fourth_words]"
   ]
  },
  {
   "cell_type": "code",
   "execution_count": 4,
   "id": "9d049152",
   "metadata": {},
   "outputs": [],
   "source": [
    "button = widgets.Button(description='My Button')"
   ]
  },
  {
   "cell_type": "markdown",
   "id": "c1b456e7",
   "metadata": {},
   "source": [
    "## NFT Collection Name Generator"
   ]
  },
  {
   "cell_type": "code",
   "execution_count": 6,
   "id": "865c528a",
   "metadata": {},
   "outputs": [
    {
     "data": {
      "application/vnd.jupyter.widget-view+json": {
       "model_id": "ebb6b0ed51ad43138319d31ab3e05cab",
       "version_major": 2,
       "version_minor": 0
      },
      "text/plain": [
       "VBox(children=(Button(description='My Button', style=ButtonStyle()), Output()))"
      ]
     },
     "metadata": {},
     "output_type": "display_data"
    }
   ],
   "source": [
    "button = widgets.Button(description='Generate!')\n",
    "out = widgets.Output()\n",
    "def on_button_clicked(_):\n",
    "    # \"linking function with output\"\n",
    "    the_ornot = random.randint(0,1)\n",
    "    word_count = random.randint(2,4)\n",
    "    \n",
    "    if the_ornot==0:\n",
    "        name = \"\"\n",
    "    else: name = \"The \"\n",
    "    \n",
    "    words_added = []\n",
    "    for i in range(word_count):\n",
    "        word = random.choice(dict_list[i])\n",
    "        \n",
    "        while word in words_added: \n",
    "            word = random.choice(dict_list[i])     \n",
    "        \n",
    "        words_added.append(word)\n",
    "        \n",
    "    name = \" \".join(words_added)\n",
    "    \n",
    "    with out:\n",
    "        # what happens when we press the button\n",
    "        clear_output()\n",
    "        print(name)\n",
    "# linking button and function together using a button's method\n",
    "button.on_click(on_button_clicked)\n",
    "# displaying button and its output together\n",
    "widgets.VBox([button,out])"
   ]
  },
  {
   "cell_type": "code",
   "execution_count": null,
   "id": "12514e50",
   "metadata": {},
   "outputs": [],
   "source": []
  }
 ],
 "metadata": {
  "kernelspec": {
   "display_name": "Python 3 (ipykernel)",
   "language": "python",
   "name": "python3"
  },
  "language_info": {
   "codemirror_mode": {
    "name": "ipython",
    "version": 3
   },
   "file_extension": ".py",
   "mimetype": "text/x-python",
   "name": "python",
   "nbconvert_exporter": "python",
   "pygments_lexer": "ipython3",
   "version": "3.7.4"
  }
 },
 "nbformat": 4,
 "nbformat_minor": 5
}
